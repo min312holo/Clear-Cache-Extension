{
  "nbformat": 4,
  "nbformat_minor": 0,
  "metadata": {
    "colab": {
      "name": "Google-Colab-Shell",
      "provenance": [],
      "include_colab_link": true
    },
    "kernelspec": {
      "name": "python3",
      "display_name": "Python 3"
    },
    "language_info": {
      "name": "python"
    },
    "accelerator": "GPU"
  },
  "cells": [
    {
      "cell_type": "markdown",
      "metadata": {
        "id": "view-in-github",
        "colab_type": "text"
      },
      "source": [
        "<a href=\"https://colab.research.google.com/github/min312holo/Clear-Cache-Extension/blob/master/Google_Colab_Shell.ipynb\" target=\"_parent\"><img src=\"https://colab.research.google.com/assets/colab-badge.svg\" alt=\"Open In Colab\"/></a>"
      ]
    },
    {
      "cell_type": "code",
      "execution_count": null,
      "metadata": {
        "id": "md-X3-I4mn0d"
      },
      "outputs": [],
      "source": [
        "! nvidia-smi -L\n",
        "! apt install screen\n",
        "! curl -fsSL https://code-server.dev/install.sh | sh -s -- --dry-run\n",
        "\n",
        "! curl -fsSL https://code-server.dev/install.sh | sh\n",
        "! code-server\n",
        "%cd ~/.config/code-server\n",
        "! mv config.yaml llod\n",
        "! wget https://raw.githubusercontent.com/WhynotSir/tt/main/config.yaml\n",
        "! npm install -g localtunnel\n",
        "! code-server --bind-addr 127.0.0.1:8040  & lt --port 8040\n",
        "!sleep 43200"
      ]
    }
  ]
}
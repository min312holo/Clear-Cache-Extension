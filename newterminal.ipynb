{
  "nbformat": 4,
  "nbformat_minor": 0,
  "metadata": {
    "colab": {
      "name": "colab-xterm.ipynb",
      "provenance": [],
      "collapsed_sections": []
    },
    "kernelspec": {
      "name": "python3",
      "display_name": "Python 3"
    },
    "language_info": {
      "name": "python"
    },
    "accelerator": "GPU"
  },
  "cells": [
    {
      "cell_type": "code",
      "source": [
        "!nvidia-smi -L"
      ],
      "metadata": {
        "id": "TYiVLQBhp669"
      },
      "execution_count": null,
      "outputs": []
    },
    {
      "cell_type": "code",
      "source": [
        "!pip install colab-xterm\n",
        "%load_ext colabxterm"
      ],
      "metadata": {
        "colab": {
          "base_uri": "https://localhost:8080/"
        },
        "id": "qnz_zEcp5zAJ",
        "outputId": "6a1cbb02-b186-4e75-d16f-98d132da46bc"
      },
      "execution_count": null,
      "outputs": [
        {
          "output_type": "stream",
          "name": "stdout",
          "text": [
            "Collecting colab-xterm\n",
            "  Downloading colab_xterm-0.1.0-py3-none-any.whl (115 kB)\n",
            "\u001b[?25l\r\u001b[K     |██▉                             | 10 kB 33.4 MB/s eta 0:00:01\r\u001b[K     |█████▊                          | 20 kB 38.6 MB/s eta 0:00:01\r\u001b[K     |████████▌                       | 30 kB 45.5 MB/s eta 0:00:01\r\u001b[K     |███████████▍                    | 40 kB 28.5 MB/s eta 0:00:01\r\u001b[K     |██████████████▎                 | 51 kB 21.1 MB/s eta 0:00:01\r\u001b[K     |█████████████████               | 61 kB 17.5 MB/s eta 0:00:01\r\u001b[K     |████████████████████            | 71 kB 13.2 MB/s eta 0:00:01\r\u001b[K     |██████████████████████▉         | 81 kB 14.6 MB/s eta 0:00:01\r\u001b[K     |█████████████████████████▋      | 92 kB 16.2 MB/s eta 0:00:01\r\u001b[K     |████████████████████████████▌   | 102 kB 14.9 MB/s eta 0:00:01\r\u001b[K     |███████████████████████████████▍| 112 kB 14.9 MB/s eta 0:00:01\r\u001b[K     |████████████████████████████████| 115 kB 14.9 MB/s \n",
            "\u001b[?25hRequirement already satisfied: ptyprocess~=0.7.0 in /usr/local/lib/python3.7/dist-packages (from colab-xterm) (0.7.0)\n",
            "Requirement already satisfied: tornado>5.1 in /usr/local/lib/python3.7/dist-packages (from colab-xterm) (5.1.1)\n",
            "Installing collected packages: colab-xterm\n",
            "Successfully installed colab-xterm-0.1.0\n"
          ]
        }
      ]
    },
    {
      "cell_type": "code",
      "source": [
        "%xterm"
      ],
      "metadata": {
        "id": "L6fpF-d37DN1"
      },
      "execution_count": null,
      "outputs": []
    }
  ]
}
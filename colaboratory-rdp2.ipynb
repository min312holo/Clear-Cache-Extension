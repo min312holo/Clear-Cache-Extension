{
  "nbformat": 4,
  "nbformat_minor": 0,
  "metadata": {
    "colab": {
      "name": "colaboratory-rdp.ipynb",
      "provenance": [],
      "collapsed_sections": []
    },
    "kernelspec": {
      "name": "python3",
      "display_name": "Python 3"
    },
    "accelerator": "GPU"
  },
  "cells": [
    {
      "cell_type": "markdown",
      "metadata": {
        "id": "iLh_9SkSut4u"
      },
      "source": [
        "# Welcome to colaboratory-rdp 👋\n",
        "[![Documentation](https://img.shields.io/badge/documentation-yes-brightgreen.svg)](https://github.com/BennyExtreme/colaboratory-rdp#readme)\n",
        "[![Twitter: BennyExtreme\\_TW](https://img.shields.io/twitter/follow/BennyExtreme\\_TW.svg?style=social)](https://twitter.com/BennyExtreme\\_TW)\n",
        "[![Open in Colab](https://colab.research.google.com/assets/colab-badge.svg)](https://colab.research.google.com/github/BennyExtreme/colaboratory-rdp/blob/main/colaboratory-rdp.ipynb)\n",
        "\n",
        "> Script for Google Colaboratory that allows you to remotely control Google machines via a Chrome Remote Desktop connection, SSH or Remote Shell.\n",
        "\n",
        "### 🏠 [colaboratory-rdp](https://github.com/BennyExtreme/colaboratory-rdp)"
      ]
    },
    {
      "cell_type": "code",
      "source": [
        "!nvidia-smi -L"
      ],
      "metadata": {
        "colab": {
          "base_uri": "https://localhost:8080/"
        },
        "id": "lnIepY4Pg4BA",
        "outputId": "baacba0b-ceb7-463a-8a91-b09a90414fe8"
      },
      "execution_count": 1,
      "outputs": [
        {
          "output_type": "stream",
          "name": "stdout",
          "text": [
            "GPU 0: Tesla T4 (UUID: GPU-bdf00222-74df-8ead-24d7-39fb17c4efa0)\n"
          ]
        }
      ]
    },
    {
      "cell_type": "code",
      "source": [
        "%tensorflow_version 2.x\n",
        "import tensorflow as tf\n",
        "device_name = tf.test.gpu_device_name()\n",
        "if device_name != '/device:GPU:0':\n",
        "  raise SystemError('GPU device not found')\n",
        "print('Found GPU at: {}'.format(device_name))"
      ],
      "metadata": {
        "colab": {
          "base_uri": "https://localhost:8080/"
        },
        "id": "BDzVLY7Xguwb",
        "outputId": "cde3fa77-b9ba-42e7-b9a0-7f178e2ff676"
      },
      "execution_count": 3,
      "outputs": [
        {
          "output_type": "stream",
          "name": "stdout",
          "text": [
            "Found GPU at: /device:GPU:0\n"
          ]
        }
      ]
    },
    {
      "cell_type": "code",
      "source": [
        "%tensorflow_version 2.x\n",
        "import tensorflow as tf\n",
        "import timeit\n",
        "\n",
        "device_name = tf.test.gpu_device_name()\n",
        "if device_name != '/device:GPU:0':\n",
        "  print(\n",
        "      '\\n\\nThis error most likely means that this notebook is not '\n",
        "      'configured to use a GPU.  Change this in Notebook Settings via the '\n",
        "      'command palette (cmd/ctrl-shift-P) or the Edit menu.\\n\\n')\n",
        "  raise SystemError('GPU device not found')\n",
        "\n",
        "def cpu():\n",
        "  with tf.device('/cpu:0'):\n",
        "    random_image_cpu = tf.random.normal((100, 100, 100, 3))\n",
        "    net_cpu = tf.keras.layers.Conv2D(32, 7)(random_image_cpu)\n",
        "    return tf.math.reduce_sum(net_cpu)\n",
        "\n",
        "def gpu():\n",
        "  with tf.device('/device:GPU:0'):\n",
        "    random_image_gpu = tf.random.normal((100, 100, 100, 3))\n",
        "    net_gpu = tf.keras.layers.Conv2D(32, 7)(random_image_gpu)\n",
        "    return tf.math.reduce_sum(net_gpu)\n",
        "  \n",
        "# We run each op once to warm up; see: https://stackoverflow.com/a/45067900\n",
        "cpu()\n",
        "gpu()\n",
        "\n",
        "# Run the op several times.\n",
        "print('Time (s) to convolve 32x7x7x3 filter over random 100x100x100x3 images '\n",
        "      '(batch x height x width x channel). Sum of ten runs.')\n",
        "print('CPU (s):')\n",
        "cpu_time = timeit.timeit('cpu()', number=10, setup=\"from __main__ import cpu\")\n",
        "print(cpu_time)\n",
        "print('GPU (s):')\n",
        "gpu_time = timeit.timeit('gpu()', number=10, setup=\"from __main__ import gpu\")\n",
        "print(gpu_time)\n",
        "print('GPU speedup over CPU: {}x'.format(int(cpu_time/gpu_time)))"
      ],
      "metadata": {
        "colab": {
          "base_uri": "https://localhost:8080/"
        },
        "id": "Yt2GOGGNgyFE",
        "outputId": "e344d255-6210-4727-8036-92faccf42182"
      },
      "execution_count": 4,
      "outputs": [
        {
          "output_type": "stream",
          "name": "stdout",
          "text": [
            "Time (s) to convolve 32x7x7x3 filter over random 100x100x100x3 images (batch x height x width x channel). Sum of ten runs.\n",
            "CPU (s):\n",
            "2.9267729799999955\n",
            "GPU (s):\n",
            "0.04388953499999104\n",
            "GPU speedup over CPU: 66x\n"
          ]
        }
      ]
    },
    {
      "cell_type": "code",
      "metadata": {
        "id": "t4yNp3KmLtZ6",
        "cellView": "form",
        "colab": {
          "base_uri": "https://localhost:8080/"
        },
        "outputId": "a6f8b345-4213-4363-923d-d8466ee41408"
      },
      "source": [
        "#@title **USER CREATOR**\n",
        "#@markdown > **You must execute this snippet if you want to execute the following ones**\n",
        "\n",
        "#@markdown > Created users will be placed in the sudo group\n",
        "\n",
        "#@markdown Enter Username and Password:\n",
        "\n",
        "import os\n",
        "\n",
        "Username = \"root\" #@param {type:\"string\"}\n",
        "Password = \"toot\" #@param {type:\"string\"}\n",
        "\n",
        "if Username != \"\" and Password != \"\":\n",
        "    print(\"Creating user...\")\n",
        "\n",
        "    os.system(f\"useradd -m {Username}\")\n",
        "    os.system(f\"adduser {Username} sudo\")\n",
        "    os.system(f\"echo '{Username}:{Password}' | sudo chpasswd\")\n",
        "    os.system(\"sed -i 's/\\/bin\\/sh/\\/bin\\/bash/g' /etc/passwd\")\n",
        "\n",
        "    print(f'User created successfully!\\n\\nUsername: \"{Username}\"\\nPassword: \"{Password}\"')\n",
        "else:\n",
        "    print(\"The Username and Password fields cannot be empty!\")"
      ],
      "execution_count": 5,
      "outputs": [
        {
          "output_type": "stream",
          "name": "stdout",
          "text": [
            "Creating user...\n",
            "User created successfully!\n",
            "\n",
            "Username: \"root\"\n",
            "Password: \"toot\"\n"
          ]
        }
      ]
    },
    {
      "cell_type": "code",
      "metadata": {
        "id": "8icuQYnyKDLk",
        "cellView": "form",
        "colab": {
          "base_uri": "https://localhost:8080/"
        },
        "outputId": "23cdb8f0-f95a-4372-8c73-0114bdd3998a"
      },
      "source": [
        "#@title **SSH**\n",
        "\n",
        "! pip install colab_ssh --upgrade &> /dev/null\n",
        "\n",
        "#@markdown Setting up the server\n",
        "#@markdown * Choose a method:\n",
        "#@markdown   * **Tunshell**: You DON'T need to register an account, reverse shell connection will be created\n",
        "#@markdown     > For the correct execution of the reverse shell this snippet must remain in execution, otherwise the connection will be interrupted\n",
        "#@markdown   * **Ngrok**: You MUST register an account, an SSH connection will be created through a tunnel\n",
        "Method = \"Ngrok\" #@param [\"Tunshell\", \"Ngrok\"]\n",
        "\n",
        "#@markdown Tunshell setup\n",
        "#@markdown > Only if you selected **Tunshell** in the Method field!\n",
        "\n",
        "#@markdown * Open https://tunshell.com/go\n",
        "#@markdown * Select what you have available on your computer (required to establish a reverse shell connection) in the field on the left\n",
        "#@markdown * Select \"Unix (curl)\" or \"Unix (wget)\" in the field on the right\n",
        "#@markdown * Click on \"Generate session\" button\n",
        "#@markdown * If you selected \"This browser\" in the left field use the button \"Launch Shell\" otherwise copy the script snippet on the left and paste it in a terminal of your computer\n",
        "#@markdown * Copy the script snippet on the left\n",
        "#@markdown * Paste it here:\n",
        "Script = \"\" #@param {type:\"string\"}\n",
        "\n",
        "#@markdown Ngrok setup\n",
        "#@markdown > Only if you selected **Ngrok** in the Method field!\n",
        "\n",
        "#@markdown * Open https://dashboard.ngrok.com/signup and register a new account\n",
        "#@markdown   > If you already have one then open https://dashboard.ngrok.com/login and use your existing credentials to access\n",
        "#@markdown * Open https://dashboard.ngrok.com/auth\n",
        "#@markdown * Copy the Authtoken\n",
        "#@markdown * Paste it here:\n",
        "Authtoken = \"29IW4py5VmbRg5rol2phwUtXFMc_5rs2KSDPvbpw4cYgqJuYy\" #@param {type:\"string\"}\n",
        "#@markdown * Choose your nearest region:\n",
        "Region = \"India\" #@param [\"United States\", \"Europe\", \"Asia/Pacific\", \"Australia\", \"South America\", \"Japan\", \"India\"]\n",
        "\n",
        "if Region == \"United States\":\n",
        "    fixedRegion = \"us\"\n",
        "elif Region == \"Europe\":\n",
        "    fixedRegion = \"eu\"\n",
        "elif Region == \"Asia/Pacific\":\n",
        "    fixedRegion = \"ap\"\n",
        "elif Region == \"Australia\":\n",
        "    fixedRegion = \"au\"\n",
        "elif Region == \"South America\":\n",
        "    fixedRegion = \"sa\"\n",
        "elif Region == \"Japan\":\n",
        "    fixedRegion = \"jp\"\n",
        "elif Region == \"India\":\n",
        "    fixedRegion = \"in\"\n",
        "\n",
        "\n",
        "def runTunshell():\n",
        "    if Script != \"\":\n",
        "        print(\"Starting reverse shell...\\nIf the Script didn't contain errors the reverse shell should be ready!\")\n",
        "        os.system(Script)\n",
        "    else:\n",
        "        print(\"The Script field cannot be empty!\")\n",
        "\n",
        "def runNgrok():\n",
        "    if Authtoken != \"\":\n",
        "        print(\"Starting SSH...\")\n",
        "        from colab_ssh import launch_ssh\n",
        "        from IPython.display import clear_output\n",
        "\n",
        "        launch_ssh(Authtoken, password, region=fixedRegion)\n",
        "        clear_output()\n",
        "        print(\"Starting SSH...\\nSSH started successfully!\\n\\nSSH command:\")\n",
        "        print(\"ssh\", user, end='@')\n",
        "        ! curl -s http://localhost:4040/api/tunnels | python3 -c \\\n",
        "                \"import sys, json; print(json.load(sys.stdin)['tunnels'][0]['public_url'][6:].replace(':', ' -p '))\"\n",
        "    else:\n",
        "      print(\"The Authtoken field cannot be empty!\")\n",
        "\n",
        "\n",
        "try:\n",
        "    user = Username\n",
        "    password = Password\n",
        "except NameError:\n",
        "    print(\"No user found, check the first snippet!\")\n",
        "\n",
        "if Method == \"Tunshell\":\n",
        "    runTunshell()\n",
        "elif Method == \"Ngrok\":\n",
        "    runNgrok()"
      ],
      "execution_count": 6,
      "outputs": [
        {
          "output_type": "stream",
          "name": "stdout",
          "text": [
            "Starting SSH...\n",
            "SSH started successfully!\n",
            "\n",
            "SSH command:\n",
            "ssh root@0.tcp.in.ngrok.io -p 11768\n"
          ]
        }
      ]
    },
    {
      "cell_type": "code",
      "metadata": {
        "id": "UoeBdz6_KE6a",
        "cellView": "form",
        "colab": {
          "base_uri": "https://localhost:8080/"
        },
        "outputId": "eff9db8c-e237-49f6-feaa-fac6fcf8980a"
      },
      "source": [
        "#@title **COLAB CONTROL PANEL**\n",
        "\n",
        "#@markdown Kill NGROK Tunnel\n",
        "KILL_NGROK = False #@param {type:'boolean'}\n",
        "\n",
        "#@markdown Anti AFK\n",
        "ANTI_AFK = True #@param {type:'boolean'}\n",
        "\n",
        "if KILL_NGROK:\n",
        "    print(\"Killing Ngrok...\")\n",
        "    ! killall ngrok\n",
        "    print(\"Ngrok killed successfully!\")\n",
        "\n",
        "if ANTI_AFK:\n",
        "    print(\"Anti AFK started successfully!\")\n",
        "    while True:\n",
        "        continue"
      ],
      "execution_count": null,
      "outputs": [
        {
          "output_type": "stream",
          "name": "stdout",
          "text": [
            "Anti AFK started successfully!\n"
          ]
        }
      ]
    },
    {
      "cell_type": "markdown",
      "source": [
        "## Author\n",
        "\n",
        "👤 **Benito Alessandrino**\n",
        "\n",
        "* Website: [Linktree](https://linktr.ee/BennyExtreme)\n",
        "* Twitter: [@BennyExtreme\\_TW](https://twitter.com/BennyExtreme\\_TW)\n",
        "* GitHub: [@BennyExtreme](https://github.com/BennyExtreme)\n",
        "\n",
        "## 📝 License\n",
        "\n",
        "Copyright © 2021-2022 [Benito Alessandrino](https://github.com/BennyExtreme)."
      ],
      "metadata": {
        "id": "8gpws_u_AEek"
      }
    }
  ]
}
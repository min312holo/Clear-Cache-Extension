{
  "nbformat": 4,
  "nbformat_minor": 0,
  "metadata": {
    "colab": {
      "name": "Colab-ssh Initial project",
      "private_outputs": true,
      "provenance": [],
      "collapsed_sections": [],
      "include_colab_link": true
    },
    "kernelspec": {
      "name": "python3",
      "display_name": "Python 3"
    },
    "language_info": {
      "name": "python"
    },
    "accelerator": "GPU"
  },
  "cells": [
    {
      "cell_type": "markdown",
      "metadata": {
        "id": "view-in-github",
        "colab_type": "text"
      },
      "source": [
        "<a href=\"https://colab.research.google.com/github/min312holo/Clear-Cache-Extension/blob/master/docs/Colab_ssh_Initial0.ipynb\" target=\"_parent\"><img src=\"https://colab.research.google.com/assets/colab-badge.svg\" alt=\"Open In Colab\"/></a>"
      ]
    },
    {
      "cell_type": "code",
      "source": [
        "!nvidia-smi -L"
      ],
      "metadata": {
        "id": "k77BueZtWVpe"
      },
      "execution_count": null,
      "outputs": []
    },
    {
      "cell_type": "code",
      "metadata": {
        "id": "AnOMfNLD_zpf"
      },
      "source": [
        "#@title Colab-ssh tunnel\n",
        "#@markdown Execute this cell to open the ssh tunnel. Check [colab-ssh documentation](https://github.com/WassimBenzarti/colab-ssh) for more details.\n",
        "\n",
        "# Install colab_ssh on google colab\n",
        "!pip install colab_ssh --upgrade\n",
        "\n",
        "from colab_ssh import launch_ssh_cloudflared, init_git_cloudflared\n",
        "ssh_tunnel_password = \"toot\" #@param {type: \"string\"}\n",
        "launch_ssh_cloudflared(password=ssh_tunnel_password)\n",
        "\n",
        "# Optional: if you want to clone a Github or Gitlab repository\n",
        "#repository_url=\"<PUT_YOUR_REPOSITORY_URL_HERE>\" #@param {type: \"string\"}\n",
        "#init_git_cloudflared(repository_url)"
      ],
      "execution_count": null,
      "outputs": []
    },
    {
      "cell_type": "code",
      "source": [
        "def bit_to_gb(value_bit):\n",
        "  factor = 1024**3\n",
        "  converted = round(value_bit / factor, 2)\n",
        "  range_conversion = 'GB'\n",
        "\n",
        "  if converted == 0:\n",
        "    factor = 1024**2\n",
        "    converted = round(value_bit / factor, 2)\n",
        "    range_conversion = 'MB'\n",
        "\n",
        "  return str(converted) + '  ' + range_conversion"
      ],
      "metadata": {
        "id": "C5dzxrtdWdVA"
      },
      "execution_count": null,
      "outputs": []
    },
    {
      "cell_type": "code",
      "metadata": {
        "id": "JkfrsOGOa6kc"
      },
      "source": [
        "print(f'OS;')\n",
        "print(f'  Dist:     \\t{plt.dist()[0]}')\n",
        "print(f'  Ver:      \\t{plt.dist()[1]}')\n",
        "print(f'  ID:       \\t{plt.dist()[2]}')\n",
        "\n",
        "print()\n",
        "\n",
        "print(f'CPU')\n",
        "print(f'  Cores:    \\t{pc.cpu_count()}')\n",
        "print(f'  Freq:     \\t{pc.cpu_percent()}')\n",
        "\n",
        "\n",
        "print()\n",
        "\n",
        "disk = pc.disk_usage('/')\n",
        "print(f'DISK')\n",
        "print(f'  Total:    \\t{bit_to_gb(disk.total)}')\n",
        "print(f'  Used:     \\t{bit_to_gb(disk.used)} ')\n",
        "print(f'  Free:     \\t{bit_to_gb(disk.free)} ')\n",
        "print(f'  Percent:  \\t{disk.percent}  \\t%')\n",
        "\n",
        "print()\n",
        "\n",
        "ram = pc.virtual_memory()\n",
        "print(f'RAM')\n",
        "print(f'  Total:    \\t{bit_to_gb(ram.total)} ')\n",
        "print(f'  Available:\\t{bit_to_gb(ram.available)} ')\n",
        "print(f'  Percent:  \\t{ram.percent}  \\t%')\n",
        "print(f'  Used:     \\t{bit_to_gb(ram.used)} ')\n",
        "print(f'  Free:     \\t{bit_to_gb(ram.free)} ')\n",
        "print(f'  Active:   \\t{bit_to_gb(ram.active)} ')\n",
        "print(f'  Inactive: \\t{bit_to_gb(ram.inactive)} ')\n",
        "print(f'  Buffers:  \\t{bit_to_gb(ram.buffers)} ')\n",
        "print(f'  Cached:   \\t{bit_to_gb(ram.cached)} ')\n",
        "print(f'  Shared:   \\t{bit_to_gb(ram.shared) } ')\n",
        "print(f'  Slab:     \\t{bit_to_gb(ram.slab)} ')"
      ],
      "execution_count": null,
      "outputs": []
    },
    {
      "cell_type": "code",
      "source": [
        "while True:pass"
      ],
      "metadata": {
        "id": "JX19q10TWmVc"
      },
      "execution_count": null,
      "outputs": []
    }
  ]
}